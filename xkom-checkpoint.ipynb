{
 "cells": [
  {
   "cell_type": "code",
   "execution_count": 63,
   "id": "e2a96bc8",
   "metadata": {},
   "outputs": [],
   "source": [
    "from bs4 import BeautifulSoup\n",
    "import requests\n",
    "import time\n",
    "import os.path\n",
    "import csv"
   ]
  },
  {
   "cell_type": "code",
   "execution_count": 70,
   "id": "97d9a796",
   "metadata": {},
   "outputs": [
    {
     "name": "stdout",
     "output_type": "stream",
     "text": [
      "HTTP GET  request to URL\n",
      "Status code: 200\n",
      "HTTP GET  request to URL\n",
      "Status code: 200\n",
      "HTTP GET  request to URL\n",
      "Status code: 200\n",
      "HTTP GET  request to URL\n",
      "Status code: 200\n",
      "HTTP GET  request to URL\n",
      "Status code: 200\n",
      "HTTP GET  request to URL\n",
      "Status code: 200\n",
      "HTTP GET  request to URL\n",
      "Status code: 200\n",
      "HTTP GET  request to URL\n",
      "Status code: 200\n"
     ]
    }
   ],
   "source": [
    "#URL = 'https://www.x-kom.pl/g-5/c/345-karty-graficzne.html?f1702-uklad-graficzny=24826-amd-radeon&f1702-uklad-graficzny=24827-nvidia-geforce&f1702-uklad-graficzny=262522-intel-arc'\n",
    "#headers = {\"User-Agent\": \"Mozilla/5.0 (Windows NT 10.0; Win64; x64) AppleWebKit/537.36 (KHTML, like Gecko) Chrome/78.0.3904.108 Safari/537.36\", \"Accept-Encoding\":\"gzip, deflate\", \"Accept\":\"text/html,application/xhtml+xml,application/xml;q=0.9,*/*;q=0.8\", \"DNT\":\"1\",\"Connection\":\"close\", \"Upgrade-Insecure-Requests\":\"1\"}\n",
    "\n",
    "class Scraper():\n",
    "    \n",
    "    headers = {\"User-Agent\": \"Mozilla/5.0 (Windows NT 10.0; Win64; x64) AppleWebKit/537.36 (KHTML, like Gecko) Chrome/78.0.3904.108 Safari/537.36\", \"Accept-Encoding\":\"gzip, deflate\", \"Accept\":\"text/html,application/xhtml+xml,application/xml;q=0.9,*/*;q=0.8\", \"DNT\":\"1\",\"Connection\":\"close\", \"Upgrade-Insecure-Requests\":\"1\"}\n",
    "    URL_1 = 'https://www.x-kom.pl/g-5/c/345-karty-graficzne.html?page='\n",
    "    URL_2 = '&f1702-uklad-graficzny=24826-amd-radeon&f1702-uklad-graficzny=24827-nvidia-geforce&f1702-uklad-graficzny=262522-intel-arc'\n",
    "\n",
    "    def fetch(self, URL, headers):\n",
    "        print('HTTP GET  request to URL')\n",
    "        response = requests.get(URL, headers=headers)\n",
    "        print('Status code:', response.status_code)\n",
    "        return response\n",
    "    \n",
    "    def parse(self, html):\n",
    "        content = BeautifulSoup(html, 'lxml')\n",
    "        prices = [price.text.rstrip(' zł').replace(',', '.') for price in content.findAll('span', {'class': 'sc-6n68ef-0 sc-6n68ef-3 guFePW'})]\n",
    "        infos = [info for info in content.findAll('ul', {'class': 'sc-vb9gxz-0 sc-vb9gxz-1 gOnpJX sc-1yu46qn-12 iydElX'})]\n",
    "        \n",
    "        desc = []\n",
    "        for i in range(len(infos)):\n",
    "            info = []\n",
    "            for li in infos[i].find_all('li'):\n",
    "                info.append(li.text.split(':')[-1])\n",
    "            desc.append(info)\n",
    "        \n",
    "        for index in range(len(prices)):\n",
    "            card = {\n",
    "                'GPU name': desc[index][0],\n",
    "                'GPU memory': desc[index][1],\n",
    "                'Memory type': desc[index][2],\n",
    "                'Price': prices[index],\n",
    "            }\n",
    "      \n",
    "            self.to_csv(card)\n",
    "    def to_csv(self, card):\n",
    "        with open('xkom_gpu_scraper.csv', 'a', newline='') as csv_file:\n",
    "            writer = csv.DictWriter(csv_file, fieldnames=card.keys())\n",
    "            if not os.path.isfile('xkom_gpu_scraper.csv'):\n",
    "                writer.writeheader()\n",
    "                print('hi')\n",
    "            writer.writerow(card)\n",
    "        \n",
    "    \n",
    "    def run(self):\n",
    "        response = self.fetch(URL, headers)\n",
    "        #self.parse(response.content)\n",
    "        #self.to_csv()\n",
    "        for page in range(1,8):\n",
    "            next_page = self.URL_1 + str(page) + self.URL_2\n",
    "            response = self.fetch(next_page, headers)\n",
    "            \n",
    "            if response.status_code == 200:\n",
    "                self.parse(response.content)\n",
    "    \n",
    "            else:\n",
    "                print('Something went wrong', response.status_code)\n",
    "            time.sleep(2)\n",
    "            \n",
    "s1 = Scraper()\n",
    "\n",
    "s1.run()"
   ]
  },
  {
   "cell_type": "code",
   "execution_count": 27,
   "id": "3314b276",
   "metadata": {},
   "outputs": [
    {
     "name": "stdout",
     "output_type": "stream",
     "text": [
      "<ul class=\"sc-vb9gxz-0 sc-vb9gxz-1 gOnpJX sc-1yu46qn-12 iydElX\" title=\"Układ: GeForce RTX 3060 Ti, Pamięć: 8 GB, Rodzaj pamięci: GDDR6X, Złącza: HDMI 2.1 - 1 szt., DisplayPort 1.4a - 3 szt.\"><li class=\"sc-vb9gxz-2 cerwry\">Układ: GeForce RTX 3060 Ti</li><li class=\"sc-vb9gxz-2 cerwry\">Pamięć: 8 GB</li><li class=\"sc-vb9gxz-2 cerwry\">Rodzaj pamięci: GDDR6X</li><li class=\"sc-vb9gxz-2 cerwry\">Złącza: HDMI 2.1 - 1 szt., DisplayPort 1.4a - 3 szt.</li></ul>\n"
     ]
    }
   ],
   "source": [
    "#for div in cards[0].find_all('ul', attrs={'class': 'sc-vb9gxz-0 sc-vb9gxz-1 gOnpJX sc-1yu46qn-12 iydElX'}):\n",
    "   # print(div)"
   ]
  },
  {
   "cell_type": "code",
   "execution_count": null,
   "id": "e49cb989",
   "metadata": {},
   "outputs": [],
   "source": []
  }
 ],
 "metadata": {
  "kernelspec": {
   "display_name": "Python 3 (ipykernel)",
   "language": "python",
   "name": "python3"
  },
  "language_info": {
   "codemirror_mode": {
    "name": "ipython",
    "version": 3
   },
   "file_extension": ".py",
   "mimetype": "text/x-python",
   "name": "python",
   "nbconvert_exporter": "python",
   "pygments_lexer": "ipython3",
   "version": "3.9.0"
  }
 },
 "nbformat": 4,
 "nbformat_minor": 5
}
